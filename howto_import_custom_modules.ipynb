{
  "nbformat": 4,
  "nbformat_minor": 0,
  "metadata": {
    "colab": {
      "provenance": [],
      "authorship_tag": "ABX9TyN4/DfHQbx2BFlDfO5ywct/",
      "include_colab_link": true
    },
    "kernelspec": {
      "name": "python3",
      "display_name": "Python 3"
    },
    "language_info": {
      "name": "python"
    }
  },
  "cells": [
    {
      "cell_type": "markdown",
      "metadata": {
        "id": "view-in-github",
        "colab_type": "text"
      },
      "source": [
        "<a href=\"https://colab.research.google.com/github/AndryADSM/Asset-Analyzer/blob/main/howto_import_custom_modules.ipynb\" target=\"_parent\"><img src=\"https://colab.research.google.com/assets/colab-badge.svg\" alt=\"Open In Colab\"/></a>"
      ]
    },
    {
      "cell_type": "markdown",
      "source": [
        "# ⤵️ Importing a custom module in Google Colab"
      ],
      "metadata": {
        "id": "DxdtZFpIiZ6W"
      }
    },
    {
      "cell_type": "markdown",
      "source": [
        "In this case we want to `import custom_module` from the \"custom_module.py\" file  \n",
        "we downloaded and saved either into our Google Drive or local computer  \n",
        "(we can also use a .ipynb file, see how to just below)"
      ],
      "metadata": {
        "id": "sNSI5ivVqAn0"
      }
    },
    {
      "cell_type": "markdown",
      "source": [
        "---\n",
        "## Using an .ipynb file"
      ],
      "metadata": {
        "id": "nBhWpFG7zgSa"
      }
    },
    {
      "cell_type": "markdown",
      "source": [
        "If you want to be able to use an .ipynb file as a module you will want to  \n",
        "install and import the module running the cell below, acquired from https://github.com/axil/import-ipynb  \n",
        "and follow the steps below with the respective file name"
      ],
      "metadata": {
        "id": "luUigWB52o1h"
      }
    },
    {
      "cell_type": "code",
      "source": [
        "!pip install import_ipynb\n",
        "import import_ipynb"
      ],
      "metadata": {
        "collapsed": true,
        "id": "MTUH9Abe0LAe"
      },
      "execution_count": null,
      "outputs": []
    },
    {
      "cell_type": "markdown",
      "source": [
        "---\n",
        "## From your Google Drive"
      ],
      "metadata": {
        "id": "UGAmc55tltWM"
      }
    },
    {
      "cell_type": "markdown",
      "source": [
        "Mount to your Google Drive"
      ],
      "metadata": {
        "id": "zmk3XHb_g3Bb"
      }
    },
    {
      "cell_type": "code",
      "source": [
        "from google.colab import drive\n",
        "drive.mount('/content/drive')"
      ],
      "metadata": {
        "id": "yy7HgQ0vYlRF"
      },
      "execution_count": null,
      "outputs": []
    },
    {
      "cell_type": "markdown",
      "source": [
        "You should see the \"drive\" folder inside the \"content\" folder in the left side of the screen;  \n",
        "inside there is the \"MyDrive\" and any other folder you may have, look for the \"custom_module.py\" you uploaded  \n",
        "and on the three dots click \"Copy path\""
      ],
      "metadata": {
        "id": "JeG_wncZyRsC"
      }
    },
    {
      "cell_type": "markdown",
      "source": [
        "---\n",
        "(optional) This will show all the .py files in the folder you specify (commonly \"Colab Notebooks\")  \n",
        "Can replace .py with .ipynb to show that type of file"
      ],
      "metadata": {
        "id": "b5Ip7U0lkiLi"
      }
    },
    {
      "cell_type": "code",
      "source": [
        "!ls /content/drive/MyDrive/Colab\\ Notebooks/*.py"
      ],
      "metadata": {
        "id": "jlPOLusDenh0"
      },
      "execution_count": null,
      "outputs": []
    },
    {
      "cell_type": "markdown",
      "source": [
        "(optional) With the path from the cell above you can see the contents of the module file (uncomment and run)"
      ],
      "metadata": {
        "id": "BMQYLBDKj-0k"
      }
    },
    {
      "cell_type": "code",
      "source": [
        "# !cat '/content/drive/MyDrive/Colab Notebooks/custom_module.py'"
      ],
      "metadata": {
        "id": "Nelwavk7gChh"
      },
      "execution_count": null,
      "outputs": []
    },
    {
      "cell_type": "markdown",
      "source": [
        "---\n",
        "Replace \"`/content/drive/MyDrive/Colab\\ Notebooks/custom_module.py`\" with your filepath and add \"`\\`\" before any spaces"
      ],
      "metadata": {
        "id": "2sbGHyZrk58c"
      }
    },
    {
      "cell_type": "code",
      "source": [
        "!cp /content/drive/MyDrive/Colab\\ Notebooks/custom_module.py /content"
      ],
      "metadata": {
        "id": "N31epKgrUDf4"
      },
      "execution_count": null,
      "outputs": []
    },
    {
      "cell_type": "markdown",
      "source": [
        "---\n",
        "Or you can instead run the cell below after mounting to your Google Drive for similar results"
      ],
      "metadata": {
        "id": "wSLPud-lS-qA"
      }
    },
    {
      "cell_type": "code",
      "source": [
        "import sys\n",
        "sys.path.append('/content/drive/My Drive/Colab Notebooks')"
      ],
      "metadata": {
        "id": "8D98iW7hgH10"
      },
      "execution_count": null,
      "outputs": []
    },
    {
      "cell_type": "markdown",
      "source": [
        "---\n",
        "And just import the module like any other! (without file extension)"
      ],
      "metadata": {
        "id": "69BIP55EUDMc"
      }
    },
    {
      "cell_type": "code",
      "source": [
        "import custom_module as cm"
      ],
      "metadata": {
        "id": "428N2mBG3STe"
      },
      "execution_count": null,
      "outputs": []
    },
    {
      "cell_type": "markdown",
      "source": [
        "---"
      ],
      "metadata": {
        "id": "Xfc5V79xlcJJ"
      }
    },
    {
      "cell_type": "markdown",
      "source": [
        "---\n",
        "## From your local computer"
      ],
      "metadata": {
        "id": "mChzMk0HpwZb"
      }
    },
    {
      "cell_type": "markdown",
      "source": [
        "You can drag and drop or upload the file directly to the \"content\" folder on the left side of the screen"
      ],
      "metadata": {
        "id": "7957yCeol1bO"
      }
    },
    {
      "cell_type": "markdown",
      "source": [
        "Or you can instead run the cell below, click \"Choose Files\" and select the file from your local computer"
      ],
      "metadata": {
        "id": "Di11C9Ujow8Z"
      }
    },
    {
      "cell_type": "code",
      "source": [
        "from google.colab import files\n",
        "files.upload()"
      ],
      "metadata": {
        "id": "DrIdJasZTAk1"
      },
      "execution_count": null,
      "outputs": []
    },
    {
      "cell_type": "markdown",
      "source": [
        "---\n",
        "And just import the module like any other! (without file extension)"
      ],
      "metadata": {
        "id": "3dDRKaL7ppbb"
      }
    },
    {
      "cell_type": "code",
      "source": [
        "import custom_module as cm"
      ],
      "metadata": {
        "id": "LJH4Ga4xpnAe"
      },
      "execution_count": null,
      "outputs": []
    },
    {
      "cell_type": "markdown",
      "source": [
        "---"
      ],
      "metadata": {
        "id": "0OZK43CKTCJU"
      }
    }
  ]
}